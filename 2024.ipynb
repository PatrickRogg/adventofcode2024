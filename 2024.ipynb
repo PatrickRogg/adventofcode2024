{
 "cells": [
  {
   "cell_type": "markdown",
   "metadata": {},
   "source": [
    "# Problem 1"
   ]
  },
  {
   "cell_type": "code",
   "execution_count": 18,
   "metadata": {},
   "outputs": [
    {
     "name": "stdout",
     "output_type": "stream",
     "text": [
      "11 expected: 11\n",
      "1258579\n"
     ]
    }
   ],
   "source": [
    "def problem_1_1(input_path: str):\n",
    "    with open(input_path, \"r\") as f:\n",
    "        lines = f.read().splitlines()\n",
    "\n",
    "    arr_1 = []\n",
    "    arr_2 = []\n",
    "\n",
    "    for line in lines:\n",
    "        splitted_line = line.split(\"   \")\n",
    "        arr_1.append(int(splitted_line[0]))\n",
    "        arr_2.append(int(splitted_line[1]))\n",
    "\n",
    "    sorted_arr_1 = sorted(arr_1)\n",
    "    sorted_arr_2 = sorted(arr_2)\n",
    "\n",
    "    total_diff = 0\n",
    "    for i in range(len(sorted_arr_1)):\n",
    "        total_diff += abs(sorted_arr_1[i] - sorted_arr_2[i])\n",
    "\n",
    "    return total_diff\n",
    "\n",
    "print(problem_1_1(\"data/1_example.txt\"), \"expected: 11\")\n",
    "print(problem_1_1(\"data/1.txt\"))\n"
   ]
  },
  {
   "cell_type": "markdown",
   "metadata": {},
   "source": [
    "## Part 2"
   ]
  },
  {
   "cell_type": "code",
   "execution_count": 20,
   "metadata": {},
   "outputs": [
    {
     "name": "stdout",
     "output_type": "stream",
     "text": [
      "31 expected: 31\n",
      "23981443\n"
     ]
    }
   ],
   "source": [
    "def problem_1_2(input_path: str):\n",
    "    with open(input_path, \"r\") as f:\n",
    "        lines = f.read().splitlines()\n",
    "\n",
    "    arr_left = []\n",
    "    arr_right = []\n",
    "\n",
    "    for line in lines:\n",
    "        splitted_line = line.split(\"   \")\n",
    "        arr_left.append(int(splitted_line[0]))\n",
    "        arr_right.append(int(splitted_line[1]))\n",
    "\n",
    "    num_count_right = {}\n",
    "\n",
    "    for num in arr_right:\n",
    "        num_count_right[num] = num_count_right.get(num, 0) + 1\n",
    "\n",
    "    sum = 0\n",
    "\n",
    "    for num in arr_left:\n",
    "        sum += num_count_right.get(num, 0) * num\n",
    "          \n",
    "    return sum\n",
    "\n",
    "print(problem_1_2(\"data/1_example.txt\"), \"expected: 31\")\n",
    "print(problem_1_2(\"data/1.txt\"))\n"
   ]
  },
  {
   "cell_type": "markdown",
   "metadata": {},
   "source": [
    "# Problem 2"
   ]
  },
  {
   "cell_type": "code",
   "execution_count": 17,
   "metadata": {},
   "outputs": [
    {
     "name": "stdout",
     "output_type": "stream",
     "text": [
      "2 expected: 2\n",
      "287\n"
     ]
    }
   ],
   "source": [
    "def problem_2_1(input_path: str):\n",
    "    with open(input_path, \"r\") as f:\n",
    "        lines = f.read().splitlines()\n",
    "\n",
    "    def is_report_safe(report: list[int]):\n",
    "        if report[0] == report[1]:\n",
    "            return False\n",
    "        \n",
    "        is_increasing = report[0] < report[1]\n",
    "        mulitiplier = 1 if is_increasing else -1\n",
    "        \n",
    "        for i in range(1, len(report)):\n",
    "            diff = (report[i] - report[i - 1]) * mulitiplier\n",
    "            if diff < 1 or diff > 3:\n",
    "                return False\n",
    "\n",
    "        return True\n",
    "    \n",
    "    reports = []\n",
    "\n",
    "    for line in lines:\n",
    "        splitted_line = line.split(\" \")\n",
    "        report = [int(r) for r in splitted_line]\n",
    "        reports.append(report)\n",
    "    \n",
    "    safe_report_count = 0\n",
    "    for report in reports:\n",
    "        if is_report_safe(report):\n",
    "            safe_report_count += 1\n",
    "        \n",
    "    return safe_report_count\n",
    "\n",
    "print(problem_2_1(\"data/2_example.txt\"), \"expected: 2\")\n",
    "print(problem_2_1(\"data/2.txt\"))"
   ]
  },
  {
   "cell_type": "markdown",
   "metadata": {},
   "source": [
    "## Part 2"
   ]
  },
  {
   "cell_type": "code",
   "execution_count": 27,
   "metadata": {},
   "outputs": [
    {
     "name": "stdout",
     "output_type": "stream",
     "text": [
      "4 expected: 4\n",
      "354\n"
     ]
    }
   ],
   "source": [
    "def problem_2_2(input_path: str):\n",
    "    with open(input_path, \"r\") as f:\n",
    "        lines = f.read().splitlines()\n",
    "\n",
    "    def is_report_safe(report: list[int]):\n",
    "        if report[0] == report[1]:\n",
    "            return False\n",
    "        \n",
    "        is_increasing = report[0] < report[1]\n",
    "        mulitiplier = 1 if is_increasing else -1\n",
    "        \n",
    "        for i in range(1, len(report)):\n",
    "            diff = (report[i] - report[i - 1]) * mulitiplier\n",
    "            if diff < 1 or diff > 3:\n",
    "                return False\n",
    "\n",
    "        return True\n",
    "    \n",
    "    reports = []\n",
    "\n",
    "    for line in lines:\n",
    "        splitted_line = line.split(\" \")\n",
    "        report = [int(r) for r in splitted_line]\n",
    "        reports.append(report)\n",
    "    \n",
    "    safe_report_count = 0\n",
    "    for report in reports:\n",
    "        report_with_alternatives = [report, *[report[:i] + report[i + 1:] for i in range(len(report))]]\n",
    "        if any(is_report_safe(report) for report in report_with_alternatives):\n",
    "            safe_report_count += 1\n",
    "        \n",
    "    return safe_report_count\n",
    "\n",
    "print(problem_2_2(\"data/2_example.txt\"), \"expected: 4\")\n",
    "print(problem_2_2(\"data/2.txt\"))\n"
   ]
  },
  {
   "cell_type": "markdown",
   "metadata": {},
   "source": [
    "# Problem 3"
   ]
  },
  {
   "cell_type": "code",
   "execution_count": 30,
   "metadata": {},
   "outputs": [
    {
     "name": "stdout",
     "output_type": "stream",
     "text": [
      "161 expected: 161\n",
      "184122457\n"
     ]
    }
   ],
   "source": [
    "import re\n",
    "\n",
    "def problem_3_1(input_path: str):\n",
    "    with open(input_path, \"r\") as f:\n",
    "        lines = f.read().splitlines()\n",
    "\n",
    "    total_sum = 0\n",
    "\n",
    "    pattern = r\"mul\\((\\d{1,3}),(\\d{1,3})\\)\"\n",
    "    \n",
    "    for line in lines:\n",
    "        matches = re.finditer(pattern, line)\n",
    "        for match in matches:\n",
    "            num1, num2 = int(match.group(1)), int(match.group(2))\n",
    "            total_sum += num1 * num2\n",
    "\n",
    "\n",
    "    return total_sum\n",
    "   \n",
    "\n",
    "print(problem_3_1(\"data/3_example.txt\"), \"expected: 161\")\n",
    "print(problem_3_1(\"data/3.txt\"))\n"
   ]
  },
  {
   "cell_type": "markdown",
   "metadata": {},
   "source": [
    "## Part 2"
   ]
  },
  {
   "cell_type": "code",
   "execution_count": 87,
   "metadata": {},
   "outputs": [
    {
     "name": "stdout",
     "output_type": "stream",
     "text": [
      "48 expected: 48\n",
      "107862689\n"
     ]
    }
   ],
   "source": [
    "import re\n",
    "\n",
    "def problem_3_2(input_path: str):\n",
    "    with open(input_path, \"r\") as f:\n",
    "        lines = f.read().splitlines()\n",
    "\n",
    "    total_sum = 0\n",
    "    mul_pattern = r\"mul\\((\\d{1,3}),(\\d{1,3})\\)\"\n",
    "    one_line = \"\".join(lines)\n",
    "    matches = re.finditer(mul_pattern, one_line)\n",
    "    matches = list(matches)  # Convert iterator to list to avoid consumption\n",
    "\n",
    "    for match in matches:\n",
    "        start_index = match.start()\n",
    "        \n",
    "        # Find last do() and don't() before this mul\n",
    "        last_do = -1\n",
    "        last_dont = -1\n",
    "        \n",
    "        # Look for do() and don't() before this mul\n",
    "        do_matches = list(re.finditer(r\"do\\(\\)\", one_line[:start_index]))\n",
    "        dont_matches = list(re.finditer(r\"don't\\(\\)\", one_line[:start_index]))\n",
    "        \n",
    "        if do_matches:\n",
    "            last_do = do_matches[-1].start()\n",
    "        if dont_matches:\n",
    "            last_dont = dont_matches[-1].start()\n",
    "        \n",
    "        # Skip if most recent instruction was don't()\n",
    "        if last_dont > last_do:\n",
    "            continue\n",
    "\n",
    "        num1, num2 = int(match.group(1)), int(match.group(2))\n",
    "        total_sum += num1 * num2\n",
    "\n",
    "    return total_sum\n",
    "   \n",
    "\n",
    "print(problem_3_2(\"data/3_example.txt\"), \"expected: 48\")\n",
    "print(problem_3_2(\"data/3.txt\"))"
   ]
  },
  {
   "cell_type": "markdown",
   "metadata": {},
   "source": [
    "# Problem 4"
   ]
  },
  {
   "cell_type": "code",
   "execution_count": 99,
   "metadata": {},
   "outputs": [
    {
     "name": "stdout",
     "output_type": "stream",
     "text": [
      "18 expected: 18\n",
      "2532\n"
     ]
    }
   ],
   "source": [
    "directions = [\n",
    "    (0, 1),\n",
    "    (1, 0),\n",
    "    (0, -1),\n",
    "    (-1, 0),\n",
    "    (-1, -1),\n",
    "    (1, -1),\n",
    "    (1, 1),\n",
    "    (-1, 1)\n",
    "]\n",
    "target = \"XMAS\"\n",
    "\n",
    "def dfs(r: int, c: int, index: int, grid: list[list[str]], direction: tuple[int, int]):\n",
    "    if index == len(target):\n",
    "        return 1\n",
    "    \n",
    "    new_r = r + direction[0]\n",
    "    new_c = c + direction[1]\n",
    "    if 0 <= new_r < len(grid) and 0 <= new_c < len(grid[0]):\n",
    "        if grid[new_r][new_c] == target[index]:\n",
    "            return dfs(new_r, new_c, index + 1, grid, direction)\n",
    "    return 0\n",
    "\n",
    "def problem_4_1(input_path: str):\n",
    "    with open(input_path, \"r\") as f:\n",
    "        lines = f.read().splitlines()\n",
    "    \n",
    "    grid = []\n",
    "    for line in lines:\n",
    "        grid.append(list(line))\n",
    "\n",
    "    total_count = 0\n",
    "    for i in range(len(grid)):\n",
    "        for j in range(len(grid[i])):\n",
    "            if grid[i][j] == target[0]:\n",
    "                for dir in directions:\n",
    "                    total_count += dfs(i, j, 1, grid, dir)\n",
    "\n",
    "    return total_count\n",
    "\n",
    "print(problem_4_1(\"data/4_example.txt\"), \"expected: 18\")\n",
    "print(problem_4_1(\"data/4.txt\"))"
   ]
  },
  {
   "cell_type": "markdown",
   "metadata": {},
   "source": [
    "# Part 2"
   ]
  },
  {
   "cell_type": "code",
   "execution_count": 105,
   "metadata": {},
   "outputs": [
    {
     "name": "stdout",
     "output_type": "stream",
     "text": [
      "9 expected: 9\n",
      "1941\n"
     ]
    }
   ],
   "source": [
    "target = \"MAS\"\n",
    "directions = [\n",
    "    (1, 1),\n",
    "    (-1, -1),\n",
    "    (1, -1),\n",
    "    (-1, 1)\n",
    "]\n",
    "\n",
    "def is_x_max(start_row: int, start_col: int, grid: list[list[str]]):\n",
    "    end_row = start_row + len(target) - 1\n",
    "    end_col = start_col + len(target) - 1\n",
    "\n",
    "    if end_row >= len(grid) or end_col >= len(grid[0]): \n",
    "        return False\n",
    "    \n",
    "    is_top_left_to_bottom_right = grid[start_row][start_col] == target[0] and grid[start_row + 1][start_col + 1] == target[1] and grid[end_row][end_col] == target[-1]\n",
    "    is_bottom_right_to_top_left = grid[end_row][end_col] == target[0] and grid[end_row - 1][end_col - 1] == target[1] and grid[start_row][start_col] == target[-1]\n",
    "\n",
    "    is_top_right_to_bottom_left = grid[start_row][end_col] == target[0] and grid[start_row + 1][end_col - 1] == target[1] and grid[end_row][start_col] == target[-1]\n",
    "    is_bottom_left_to_top_right = grid[end_row][start_col] == target[0] and grid[end_row - 1][start_col + 1] == target[1] and grid[start_row][end_col] == target[-1]\n",
    "\n",
    "    return (is_top_left_to_bottom_right or is_bottom_right_to_top_left) and (is_top_right_to_bottom_left or is_bottom_left_to_top_right)\n",
    "\n",
    "\n",
    "def problem_4_2(input_path: str):\n",
    "    with open(input_path, \"r\") as f:\n",
    "        lines = f.read().splitlines()\n",
    "    \n",
    "    grid = []\n",
    "    for line in lines:\n",
    "        grid.append(list(line))\n",
    "\n",
    "    total_count = 0\n",
    "    for i in range(len(grid)):\n",
    "        for j in range(len(grid[i])):\n",
    "            if is_x_max(i, j, grid):\n",
    "                total_count += 1\n",
    "\n",
    "    return total_count\n",
    "\n",
    "print(problem_4_2(\"data/4_2_example.txt\"), \"expected: 9\")\n",
    "print(problem_4_2(\"data/4.txt\"))"
   ]
  },
  {
   "cell_type": "markdown",
   "metadata": {},
   "source": [
    "# Problem 5"
   ]
  },
  {
   "cell_type": "code",
   "execution_count": 25,
   "metadata": {},
   "outputs": [
    {
     "name": "stdout",
     "output_type": "stream",
     "text": [
      "143 expected: 143\n",
      "5329\n"
     ]
    }
   ],
   "source": [
    "def is_valid_ordering(page_ordering: list[str], graph: dict[str, set[str]], dependency_map: dict[str, set[str]]):\n",
    "    for page in reversed(page_ordering):\n",
    "        if page in graph and len(graph[page]) > 0:\n",
    "            return False\n",
    "        \n",
    "        dependencies = dependency_map[page] if page in dependency_map else set()\n",
    "\n",
    "        for dependency in dependencies:\n",
    "            graph[dependency].discard(page)\n",
    "        \n",
    "        graph[page] = set()\n",
    "\n",
    "    return True\n",
    "\n",
    "def build_graph(page_ordering_rules: list[tuple[str, str]], page_numbers: set[str]):\n",
    "    graph = {}\n",
    "    dependency_map = {}\n",
    "\n",
    "    for page_1, page_2 in page_ordering_rules:\n",
    "        if page_1 not in page_numbers or page_2 not in page_numbers:\n",
    "            continue\n",
    "\n",
    "        if page_1 not in graph:\n",
    "            graph[page_1] = set()\n",
    "\n",
    "        if page_2 not in dependency_map:\n",
    "            dependency_map[page_2] = set()\n",
    "\n",
    "        graph[page_1].add(page_2)\n",
    "        dependency_map[page_2].add(page_1)\n",
    "\n",
    "    return graph, dependency_map\n",
    "\n",
    "\n",
    "def problem_5_1(input_path: str):\n",
    "    with open(input_path, \"r\") as f:\n",
    "        lines = f.read().splitlines()\n",
    "\n",
    "    page_ordering_rules = []\n",
    "    page_orderings = []\n",
    "\n",
    "    for line in lines:\n",
    "        if \"|\" in line:\n",
    "            page_1, page_2 = line.split(\"|\")\n",
    "            page_ordering_rules.append((page_1, page_2))\n",
    "        elif \",\" in line:\n",
    "            page_orderings.append(line.split(\",\"))\n",
    "\n",
    "    total_sum = 0\n",
    "\n",
    "    for ordering in page_orderings:\n",
    "        graph, dependency_map = build_graph(page_ordering_rules, page_numbers=set(ordering))\n",
    "\n",
    "        if is_valid_ordering(ordering, graph, dependency_map):\n",
    "            middle_page = ordering[len(ordering) // 2]\n",
    "            total_sum += int(middle_page)\n",
    "    return total_sum\n",
    "\n",
    "print(problem_5_1(\"data/5_example.txt\"), \"expected: 143\")\n",
    "print(problem_5_1(\"data/5.txt\"))"
   ]
  },
  {
   "cell_type": "markdown",
   "metadata": {},
   "source": [
    "## Part 2"
   ]
  },
  {
   "cell_type": "code",
   "execution_count": 52,
   "metadata": {},
   "outputs": [
    {
     "name": "stdout",
     "output_type": "stream",
     "text": [
      "123 expected: 123\n",
      "5833\n"
     ]
    }
   ],
   "source": [
    "def is_valid_ordering(update: list[str], graph: dict[str, set[str]], dependency_map: dict[str, set[str]]):\n",
    "    for page in reversed(update):\n",
    "        if page in graph and len(graph[page]) > 0:\n",
    "            return False\n",
    "        \n",
    "        dependencies = dependency_map[page] if page in dependency_map else set()\n",
    "\n",
    "        for dependency in dependencies:\n",
    "            graph[dependency].discard(page)\n",
    "        \n",
    "        graph[page] = set()\n",
    "\n",
    "    return True\n",
    "\n",
    "def build_graph(page_ordering_rules: list[tuple[str, str]], page_numbers: set[str]):\n",
    "    graph = {}\n",
    "    dependency_map = {}\n",
    "\n",
    "    for page_1, page_2 in page_ordering_rules:\n",
    "        if page_1 not in page_numbers or page_2 not in page_numbers:\n",
    "            continue\n",
    "\n",
    "        if page_1 not in graph:\n",
    "            graph[page_1] = set()\n",
    "\n",
    "        if page_2 not in dependency_map:\n",
    "            dependency_map[page_2] = set()\n",
    "\n",
    "        graph[page_1].add(page_2)\n",
    "        dependency_map[page_2].add(page_1)\n",
    "\n",
    "    return graph, dependency_map\n",
    "\n",
    "def put_pages_in_right_order(ordering: list[str], dependency_map: dict[str, set[str]]):\n",
    "    correct_page_order = []\n",
    "    used_pages = set()\n",
    "\n",
    "    while len(correct_page_order) < len(ordering):\n",
    "      for page in ordering:\n",
    "          if len(correct_page_order) >= len(ordering):\n",
    "              break\n",
    "          \n",
    "          if page in used_pages:\n",
    "              continue\n",
    "\n",
    "          if page not in dependency_map or len(dependency_map[page]) == 0:\n",
    "              correct_page_order.append(page)\n",
    "              used_pages.add(page)\n",
    "              for x in dependency_map.keys():\n",
    "                  dependency_map[x].discard(page)\n",
    "              \n",
    "    correct_page_order\n",
    "    return correct_page_order\n",
    "\n",
    "def problem_5_2(input_path: str):\n",
    "    with open(input_path, \"r\") as f:\n",
    "        lines = f.read().splitlines()\n",
    "\n",
    "    page_ordering_rules = []\n",
    "    page_orderings = []\n",
    "\n",
    "    for line in lines:\n",
    "        if \"|\" in line:\n",
    "            page_1, page_2 = line.split(\"|\")\n",
    "            page_ordering_rules.append((page_1, page_2))\n",
    "        elif \",\" in line:\n",
    "            page_orderings.append(line.split(\",\"))\n",
    "\n",
    "    total_sum = 0\n",
    "\n",
    "    for ordering in page_orderings:\n",
    "        graph, dependency_map = build_graph(page_ordering_rules, page_numbers=set(ordering))\n",
    "\n",
    "        if is_valid_ordering(ordering, graph, dependency_map):\n",
    "            continue\n",
    "        else:\n",
    "            correctly_ordered_pages = put_pages_in_right_order(ordering, dependency_map)\n",
    "            middle_page = correctly_ordered_pages[len(correctly_ordered_pages) // 2]\n",
    "            total_sum += int(middle_page)\n",
    "          \n",
    "    return total_sum\n",
    "\n",
    "print(problem_5_2(\"data/5_example.txt\"), \"expected: 123\")\n",
    "print(problem_5_2(\"data/5.txt\"))"
   ]
  },
  {
   "cell_type": "code",
   "execution_count": null,
   "metadata": {},
   "outputs": [],
   "source": []
  }
 ],
 "metadata": {
  "kernelspec": {
   "display_name": "Python 3",
   "language": "python",
   "name": "python3"
  },
  "language_info": {
   "codemirror_mode": {
    "name": "ipython",
    "version": 3
   },
   "file_extension": ".py",
   "mimetype": "text/x-python",
   "name": "python",
   "nbconvert_exporter": "python",
   "pygments_lexer": "ipython3",
   "version": "3.13.0"
  }
 },
 "nbformat": 4,
 "nbformat_minor": 2
}
